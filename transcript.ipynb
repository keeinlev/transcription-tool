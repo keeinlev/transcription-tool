{
 "cells": [
  {
   "cell_type": "code",
   "execution_count": 3,
   "id": "37149d0c-4206-406a-a38a-006b41a826c0",
   "metadata": {},
   "outputs": [],
   "source": [
    "import sounddevice as sd\n",
    "\n",
    "fs = 16000\n",
    "duration = 2  # seconds\n",
    "sd.default.samplerate = fs\n",
    "sd.default.channels = 1\n",
    "myrecording = sd.rec(int(duration * fs), dtype='float64')\n",
    "sd.wait()\n"
   ]
  },
  {
   "cell_type": "code",
   "execution_count": 4,
   "id": "19a788ed-0adb-4e9a-b79b-d79a26feaab0",
   "metadata": {},
   "outputs": [
    {
     "data": {
      "text/plain": [
       "array([[-0.00487591],\n",
       "       [-0.00246847],\n",
       "       [ 0.01240068],\n",
       "       ...,\n",
       "       [-0.09374452],\n",
       "       [-0.1046894 ],\n",
       "       [-0.11912145]])"
      ]
     },
     "execution_count": 4,
     "metadata": {},
     "output_type": "execute_result"
    }
   ],
   "source": [
    "myrecording"
   ]
  },
  {
   "cell_type": "code",
   "execution_count": 5,
   "id": "cf44d137-16ee-4300-bcad-18375c3dc15e",
   "metadata": {},
   "outputs": [
    {
     "name": "stdout",
     "output_type": "stream",
     "text": [
      "Audio saved to output_audio.wav\n"
     ]
    }
   ],
   "source": [
    "from scipy.io.wavfile import write\n",
    "filename = \"output_audio.wav\"\n",
    "write(filename, fs, myrecording)\n",
    "print(f\"Audio saved to {filename}\")"
   ]
  },
  {
   "cell_type": "code",
   "execution_count": 6,
   "id": "914575c3-d295-423f-bc7c-648797ae8149",
   "metadata": {},
   "outputs": [],
   "source": [
    "from transformers import WhisperForConditionalGeneration, WhisperProcessor\n",
    "model_name = \"openai/whisper-tiny\""
   ]
  },
  {
   "cell_type": "code",
   "execution_count": 7,
   "id": "25186f05-e1e3-4cc3-924a-7770434b0bce",
   "metadata": {},
   "outputs": [],
   "source": [
    "processor = WhisperProcessor.from_pretrained(model_name)"
   ]
  },
  {
   "cell_type": "code",
   "execution_count": 8,
   "id": "283b0c67-dd60-4729-a002-1ddfa29c6b20",
   "metadata": {},
   "outputs": [],
   "source": [
    "model = WhisperForConditionalGeneration.from_pretrained(model_name)"
   ]
  },
  {
   "cell_type": "code",
   "execution_count": null,
   "id": "e3033c0a-77ce-4268-938f-2add8e01d18e",
   "metadata": {},
   "outputs": [],
   "source": [
    "inputs = processor(myrecording, sampling_rate=fs, return_tensors=\"pt\")"
   ]
  },
  {
   "cell_type": "code",
   "execution_count": null,
   "id": "5f7362ef-e94d-495a-819a-f7829d4763c2",
   "metadata": {},
   "outputs": [],
   "source": []
  }
 ],
 "metadata": {
  "kernelspec": {
   "display_name": "Python 3 (ipykernel)",
   "language": "python",
   "name": "python3"
  },
  "language_info": {
   "codemirror_mode": {
    "name": "ipython",
    "version": 3
   },
   "file_extension": ".py",
   "mimetype": "text/x-python",
   "name": "python",
   "nbconvert_exporter": "python",
   "pygments_lexer": "ipython3",
   "version": "3.9.13"
  }
 },
 "nbformat": 4,
 "nbformat_minor": 5
}
