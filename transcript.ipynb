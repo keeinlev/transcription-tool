{
 "cells": [
  {
   "cell_type": "code",
   "execution_count": 14,
   "id": "37149d0c-4206-406a-a38a-006b41a826c0",
   "metadata": {},
   "outputs": [],
   "source": [
    "import sounddevice as sd\n",
    "\n",
    "fs = 16000\n",
    "duration = 10  # seconds\n",
    "sd.default.samplerate = fs\n",
    "sd.default.channels = 1\n",
    "myrecording = sd.rec(int(duration * fs), dtype='float64')\n",
    "sd.wait()\n"
   ]
  },
  {
   "cell_type": "code",
   "execution_count": 15,
   "id": "19a788ed-0adb-4e9a-b79b-d79a26feaab0",
   "metadata": {},
   "outputs": [],
   "source": [
    "myrecording = myrecording.squeeze()"
   ]
  },
  {
   "cell_type": "code",
   "execution_count": 5,
   "id": "cf44d137-16ee-4300-bcad-18375c3dc15e",
   "metadata": {},
   "outputs": [
    {
     "name": "stdout",
     "output_type": "stream",
     "text": [
      "Audio saved to output_audio.wav\n"
     ]
    }
   ],
   "source": [
    "from scipy.io.wavfile import write\n",
    "filename = \"output_audio.wav\"\n",
    "write(filename, fs, myrecording)\n",
    "print(f\"Audio saved to {filename}\")"
   ]
  },
  {
   "cell_type": "code",
   "execution_count": 16,
   "id": "914575c3-d295-423f-bc7c-648797ae8149",
   "metadata": {},
   "outputs": [],
   "source": [
    "from transformers import WhisperForConditionalGeneration, WhisperProcessor\n",
    "model_name = \"openai/whisper-tiny\""
   ]
  },
  {
   "cell_type": "code",
   "execution_count": null,
   "id": "25186f05-e1e3-4cc3-924a-7770434b0bce",
   "metadata": {},
   "outputs": [],
   "source": [
    "processor = WhisperProcessor.from_pretrained(model_name)\n",
    "model = WhisperForConditionalGeneration.from_pretrained(model_name)\n",
    "model.to(\"cuda:0\")"
   ]
  },
  {
   "cell_type": "code",
   "execution_count": null,
   "id": "e3033c0a-77ce-4268-938f-2add8e01d18e",
   "metadata": {},
   "outputs": [],
   "source": [
    "inputs = processor(myrecording, sampling_rate=fs, return_tensors=\"pt\").input_features\n",
    "predicted_ids = model.generate(inputs)\n",
    "transcription = processor.batch_decode(predicted_ids, skip_special_tokens=True)"
   ]
  },
  {
   "cell_type": "code",
   "execution_count": 20,
   "id": "9367f3be",
   "metadata": {},
   "outputs": [
    {
     "data": {
      "text/plain": [
       "[\" Hello, this is the test of my transcription script. I'm using whisper tiny and running on a 47-y super. Hope it works.\"]"
      ]
     },
     "execution_count": 20,
     "metadata": {},
     "output_type": "execute_result"
    }
   ],
   "source": [
    "transcription"
   ]
  },
  {
   "cell_type": "code",
   "execution_count": null,
   "id": "738babf1",
   "metadata": {},
   "outputs": [],
   "source": []
  }
 ],
 "metadata": {
  "kernelspec": {
   "display_name": "Python 3",
   "language": "python",
   "name": "python3"
  },
  "language_info": {
   "codemirror_mode": {
    "name": "ipython",
    "version": 3
   },
   "file_extension": ".py",
   "mimetype": "text/x-python",
   "name": "python",
   "nbconvert_exporter": "python",
   "pygments_lexer": "ipython3",
   "version": "3.11.9"
  }
 },
 "nbformat": 4,
 "nbformat_minor": 5
}
